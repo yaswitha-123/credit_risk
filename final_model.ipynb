{
 "cells": [
  {
   "cell_type": "code",
   "execution_count": 1,
   "id": "05be9fcf",
   "metadata": {},
   "outputs": [],
   "source": [
    "import pandas as pd\n",
    "import numpy as np\n",
    "from sklearn.cluster import KMeans, AgglomerativeClustering\n",
    "from sklearn.mixture import GaussianMixture\n",
    "from sklearn.preprocessing import LabelEncoder, StandardScaler\n",
    "from sklearn.ensemble import RandomForestClassifier, GradientBoostingClassifier\n",
    "from sklearn.linear_model import LogisticRegression\n",
    "from sklearn.ensemble import VotingClassifier\n",
    "from sklearn.model_selection import train_test_split, cross_val_score, GridSearchCV\n",
    "from sklearn.metrics import accuracy_score, precision_score, recall_score, f1_score, confusion_matrix, classification_report, silhouette_score\n",
    "from imblearn.over_sampling import SMOTE, ADASYN\n",
    "from imblearn.under_sampling import RandomUnderSampler\n",
    "from imblearn.pipeline import Pipeline\n",
    "from scipy.stats import mode"
   ]
  },
  {
   "cell_type": "code",
   "execution_count": 2,
   "id": "06552e8b",
   "metadata": {},
   "outputs": [],
   "source": [
    "df = pd.read_csv('german_credit_data.csv', index_col=0)"
   ]
  },
  {
   "cell_type": "code",
   "execution_count": 3,
   "id": "b828fd2e",
   "metadata": {},
   "outputs": [],
   "source": [
    "categorical_cols = ['Sex', 'Housing', 'Saving accounts', 'Checking account', 'Purpose']\n",
    "for col in categorical_cols:\n",
    "    df[col] = df[col].fillna(df[col].mode()[0])"
   ]
  },
  {
   "cell_type": "code",
   "execution_count": 4,
   "id": "6e0e0c83",
   "metadata": {},
   "outputs": [],
   "source": [
    "label_encoders = {}\n",
    "for col in categorical_cols:\n",
    "    le = LabelEncoder()\n",
    "    df[col] = le.fit_transform(df[col])\n",
    "    label_encoders[col] = le"
   ]
  },
  {
   "cell_type": "code",
   "execution_count": 5,
   "id": "fd721a86",
   "metadata": {},
   "outputs": [],
   "source": [
    "numerical_cols = ['Age', 'Job', 'Credit amount', 'Duration']\n",
    "for col in numerical_cols:\n",
    "    df[col] = df[col].fillna(df[col].median())"
   ]
  },
  {
   "cell_type": "code",
   "execution_count": 6,
   "id": "379dde04",
   "metadata": {},
   "outputs": [],
   "source": [
    "scaler = StandardScaler()\n",
    "df_scaled = pd.DataFrame(scaler.fit_transform(df), columns=df.columns)"
   ]
  },
  {
   "cell_type": "code",
   "execution_count": 7,
   "id": "53419541",
   "metadata": {},
   "outputs": [
    {
     "name": "stderr",
     "output_type": "stream",
     "text": [
      "c:\\Users\\venuv\\anaconda3\\Lib\\site-packages\\sklearn\\cluster\\_kmeans.py:1446: UserWarning: KMeans is known to have a memory leak on Windows with MKL, when there are less chunks than available threads. You can avoid it by setting the environment variable OMP_NUM_THREADS=4.\n",
      "  warnings.warn(\n",
      "c:\\Users\\venuv\\anaconda3\\Lib\\site-packages\\sklearn\\cluster\\_kmeans.py:1446: UserWarning: KMeans is known to have a memory leak on Windows with MKL, when there are less chunks than available threads. You can avoid it by setting the environment variable OMP_NUM_THREADS=4.\n",
      "  warnings.warn(\n"
     ]
    }
   ],
   "source": [
    "kmeans = KMeans(n_clusters=2, random_state=42)\n",
    "gmm = GaussianMixture(n_components=2, random_state=42)\n",
    "agg_clustering = AgglomerativeClustering(n_clusters=2)\n",
    "\n",
    "kmeans_labels = kmeans.fit_predict(df_scaled)\n",
    "gmm_labels = gmm.fit_predict(df_scaled)\n",
    "agg_labels = agg_clustering.fit_predict(df_scaled)"
   ]
  },
  {
   "cell_type": "code",
   "execution_count": 8,
   "id": "9bb2e8f3",
   "metadata": {},
   "outputs": [],
   "source": [
    "labels_matrix = np.vstack([kmeans_labels, gmm_labels, agg_labels]).T\n",
    "ensemble_labels, _ = mode(labels_matrix, axis=1)\n"
   ]
  },
  {
   "cell_type": "code",
   "execution_count": 9,
   "id": "a11de544",
   "metadata": {},
   "outputs": [
    {
     "name": "stdout",
     "output_type": "stream",
     "text": [
      "Silhouette Score for Ensemble Clustering: 0.1287\n"
     ]
    }
   ],
   "source": [
    "df['Ensemble_Cluster'] = ensemble_labels.flatten()\n",
    "df['Risk'] = df['Ensemble_Cluster'].apply(lambda x: 'Risk' if x == 1 else 'Non-Risk')\n",
    "\n",
    "silhouette_avg = silhouette_score(df_scaled, ensemble_labels.flatten())\n",
    "print(f\"Silhouette Score for Ensemble Clustering: {silhouette_avg:.4f}\")"
   ]
  },
  {
   "cell_type": "code",
   "execution_count": 10,
   "id": "c028feaf",
   "metadata": {},
   "outputs": [],
   "source": [
    "X = df.drop(columns=['Ensemble_Cluster', 'Risk'])\n",
    "y = df['Risk'].map({'Risk': 1, 'Non-Risk': 0}) "
   ]
  },
  {
   "cell_type": "code",
   "execution_count": 11,
   "id": "b32d5f64",
   "metadata": {},
   "outputs": [
    {
     "name": "stdout",
     "output_type": "stream",
     "text": [
      "Training class distribution: Risk\n",
      "0    639\n",
      "1    161\n",
      "Name: count, dtype: int64\n",
      "Test class distribution: Risk\n",
      "0    160\n",
      "1     40\n",
      "Name: count, dtype: int64\n"
     ]
    }
   ],
   "source": [
    "X_train, X_test, y_train, y_test = train_test_split(X, y, test_size=0.2, random_state=42, stratify=y)\n",
    "\n",
    "print(\"Training class distribution:\", pd.Series(y_train).value_counts())\n",
    "print(\"Test class distribution:\", pd.Series(y_test).value_counts())"
   ]
  },
  {
   "cell_type": "code",
   "execution_count": 12,
   "id": "c723bc3f",
   "metadata": {},
   "outputs": [],
   "source": [
    "over = SMOTE(sampling_strategy=0.5, random_state=42) \n",
    "under = RandomUnderSampler(sampling_strategy=1.0, random_state=42) \n",
    "pipeline = Pipeline(steps=[('o', over), ('u', under)])"
   ]
  },
  {
   "cell_type": "code",
   "execution_count": 13,
   "id": "39053760",
   "metadata": {},
   "outputs": [
    {
     "name": "stdout",
     "output_type": "stream",
     "text": [
      "Resampled training class distribution: Risk\n",
      "0    319\n",
      "1    319\n",
      "Name: count, dtype: int64\n"
     ]
    }
   ],
   "source": [
    "X_train_resampled, y_train_resampled = pipeline.fit_resample(X_train, y_train)\n",
    "print(\"Resampled training class distribution:\", pd.Series(y_train_resampled).value_counts())"
   ]
  },
  {
   "cell_type": "code",
   "execution_count": 14,
   "id": "e143000c",
   "metadata": {},
   "outputs": [],
   "source": [
    "rf_clf = RandomForestClassifier(class_weight='balanced', random_state=42)\n",
    "log_reg_clf = LogisticRegression(class_weight='balanced', random_state=42, max_iter=1000)\n",
    "gb_clf = GradientBoostingClassifier(random_state=42)\n",
    "\n",
    "param_grid_rf = {\n",
    "    'n_estimators': [100, 200],\n",
    "    'max_depth': [10, 20, None],\n",
    "    'min_samples_split': [2, 5]\n",
    "}"
   ]
  },
  {
   "cell_type": "code",
   "execution_count": 15,
   "id": "e494c1c8",
   "metadata": {},
   "outputs": [
    {
     "name": "stdout",
     "output_type": "stream",
     "text": [
      "Best Random Forest Parameters: {'max_depth': 20, 'min_samples_split': 2, 'n_estimators': 200}\n"
     ]
    }
   ],
   "source": [
    "grid_search_rf = GridSearchCV(RandomForestClassifier(class_weight='balanced', random_state=42),\n",
    "                              param_grid_rf, cv=5, scoring='f1', n_jobs=-1)\n",
    "grid_search_rf.fit(X_train_resampled, y_train_resampled)\n",
    "best_rf = grid_search_rf.best_estimator_\n",
    "print(\"Best Random Forest Parameters:\", grid_search_rf.best_params_)"
   ]
  },
  {
   "cell_type": "code",
   "execution_count": 16,
   "id": "9758bf7b",
   "metadata": {},
   "outputs": [
    {
     "name": "stdout",
     "output_type": "stream",
     "text": [
      "Best Gradient Boosting Parameters: {'learning_rate': 0.1, 'max_depth': 3, 'n_estimators': 200}\n"
     ]
    }
   ],
   "source": [
    "\n",
    "param_grid_gb = {\n",
    "    'n_estimators': [100, 200],\n",
    "    'learning_rate': [0.01, 0.1],\n",
    "    'max_depth': [3, 5]\n",
    "}\n",
    "grid_search_gb = GridSearchCV(GradientBoostingClassifier(random_state=42),\n",
    "                              param_grid_gb, cv=5, scoring='f1', n_jobs=-1)\n",
    "grid_search_gb.fit(X_train_resampled, y_train_resampled)\n",
    "best_gb = grid_search_gb.best_estimator_\n",
    "print(\"Best Gradient Boosting Parameters:\", grid_search_gb.best_params_)"
   ]
  },
  {
   "cell_type": "code",
   "execution_count": null,
   "id": "903c9be6",
   "metadata": {},
   "outputs": [],
   "source": [
    "ensemble_clf = VotingClassifier(\n",
    "    estimators=[\n",
    "        ('rf', best_rf),\n",
    "        ('lr', log_reg_clf),\n",
    "        ('gb', best_gb)\n",
    "    ],\n",
    "    voting='soft'  \n",
    ")\n",
    "\n",
    "cv_scores = cross_val_score(ensemble_clf, X_train_resampled, y_train_resampled, cv=5, scoring='f1')\n",
    "print(f\"Cross-Validation F1 Scores: {cv_scores.mean():.4f} ± {cv_scores.std():.4f}\")"
   ]
  },
  {
   "cell_type": "code",
   "execution_count": null,
   "id": "f7bac8bf",
   "metadata": {},
   "outputs": [],
   "source": [
    "\n",
    "ensemble_clf.fit(X_train_resampled, y_train_resampled)\n",
    "\n",
    "y_pred = ensemble_clf.predict(X_test)"
   ]
  },
  {
   "cell_type": "code",
   "execution_count": null,
   "id": "35f5915a",
   "metadata": {},
   "outputs": [],
   "source": [
    "accuracy = accuracy_score(y_test, y_pred)\n",
    "precision = precision_score(y_test, y_pred, pos_label=1)\n",
    "recall = recall_score(y_test, y_pred, pos_label=1)\n",
    "f1 = f1_score(y_test, y_pred, pos_label=1)\n",
    "\n",
    "print(\"\\nTest Set Evaluation Metrics (SMOTE + Undersampling):\")\n",
    "print(f\"Accuracy: {accuracy:.4f}\")\n",
    "print(f\"Precision: {precision:.4f}\")\n",
    "print(f\"Recall: {recall:.4f}\")\n",
    "print(f\"F1-Score: {f1:.4f}\")"
   ]
  },
  {
   "cell_type": "code",
   "execution_count": null,
   "id": "1b2f9595",
   "metadata": {},
   "outputs": [],
   "source": [
    "print(\"\\nConfusion Matrix:\")\n",
    "print(confusion_matrix(y_test, y_pred))\n",
    "print(\"\\nClassification Report:\")\n",
    "print(classification_report(y_test, y_pred, target_names=['Non-Risk', 'Risk']))"
   ]
  },
  {
   "cell_type": "code",
   "execution_count": null,
   "id": "000b37dc",
   "metadata": {},
   "outputs": [],
   "source": [
    "y_pred_proba = ensemble_clf.predict_proba(X_test)[:, 1]\n",
    "threshold = 0.4  \n",
    "y_pred_adjusted = (y_pred_proba >= threshold).astype(int)\n",
    "\n",
    "print(\"\\nTest Set Evaluation Metrics (Threshold = 0.4):\")\n",
    "print(f\"Accuracy: {accuracy_score(y_test, y_pred_adjusted):.4f}\")\n",
    "print(f\"Precision: {precision_score(y_test, y_pred_adjusted, pos_label=1):.4f}\")\n",
    "print(f\"Recall: {recall_score(y_test, y_pred_adjusted, pos_label=1):.4f}\")\n",
    "print(f\"F1-Score: {f1_score(y_test, y_pred_adjusted, pos_label=1):.4f}\")\n",
    "\n",
    "print(\"\\nConfusion Matrix (Threshold = 0.4):\")\n",
    "print(confusion_matrix(y_test, y_pred_adjusted))"
   ]
  },
  {
   "cell_type": "code",
   "execution_count": null,
   "id": "903e288a",
   "metadata": {},
   "outputs": [],
   "source": [
    "adasyn = ADASYN(sampling_strategy='auto', random_state=42)\n",
    "X_train_adasyn, y_train_adasyn = adasyn.fit_resample(X_train, y_train)\n",
    "print(\"ADASYN training class distribution:\", pd.Series(y_train_adasyn).value_counts())\n",
    "\n",
    "ensemble_clf.fit(X_train_adasyn, y_train_adasyn)\n",
    "y_pred_adasyn = ensemble_clf.predict(X_test)\n",
    "\n",
    "print(\"\\nTest Set Evaluation Metrics (ADASYN):\")\n",
    "print(f\"Accuracy: {accuracy_score(y_test, y_pred_adasyn):.4f}\")\n",
    "print(f\"Precision: {precision_score(y_test, y_pred_adasyn, pos_label=1):.4f}\")\n",
    "print(f\"Recall: {recall_score(y_test, y_pred_adasyn, pos_label=1):.4f}\")\n",
    "print(f\"F1-Score: {f1_score(y_test, y_pred_adasyn, pos_label=1):.4f}\")\n",
    "\n",
    "print(\"\\nConfusion Matrix (ADASYN):\")\n",
    "print(confusion_matrix(y_test, y_pred_adasyn))\n",
    "print(\"\\nClassification Report (ADASYN):\")\n",
    "print(classification_report(y_test, y_pred_adasyn, target_names=['Non-Risk', 'Risk']))\n",
    "\n"
   ]
  },
  {
   "cell_type": "code",
   "execution_count": null,
   "id": "aca9cd46",
   "metadata": {},
   "outputs": [],
   "source": []
  },
  {
   "cell_type": "code",
   "execution_count": null,
   "id": "5d9323a2",
   "metadata": {},
   "outputs": [],
   "source": []
  },
  {
   "cell_type": "code",
   "execution_count": null,
   "id": "e33c6393",
   "metadata": {},
   "outputs": [],
   "source": []
  },
  {
   "cell_type": "code",
   "execution_count": null,
   "id": "57f0b909",
   "metadata": {},
   "outputs": [],
   "source": []
  },
  {
   "cell_type": "code",
   "execution_count": null,
   "id": "f654141a",
   "metadata": {},
   "outputs": [],
   "source": []
  },
  {
   "cell_type": "code",
   "execution_count": null,
   "id": "aa51c748",
   "metadata": {},
   "outputs": [],
   "source": []
  },
  {
   "cell_type": "code",
   "execution_count": null,
   "id": "fef94e35",
   "metadata": {},
   "outputs": [],
   "source": []
  },
  {
   "cell_type": "code",
   "execution_count": null,
   "id": "0b7e3186",
   "metadata": {},
   "outputs": [],
   "source": []
  },
  {
   "cell_type": "code",
   "execution_count": null,
   "id": "ae65dba1",
   "metadata": {},
   "outputs": [],
   "source": []
  },
  {
   "cell_type": "code",
   "execution_count": null,
   "id": "1bddc5bf",
   "metadata": {},
   "outputs": [],
   "source": []
  },
  {
   "cell_type": "code",
   "execution_count": null,
   "id": "0e7c60fc",
   "metadata": {},
   "outputs": [],
   "source": []
  },
  {
   "cell_type": "code",
   "execution_count": null,
   "id": "df0468f6",
   "metadata": {},
   "outputs": [],
   "source": []
  },
  {
   "cell_type": "code",
   "execution_count": null,
   "id": "eaff0a10",
   "metadata": {},
   "outputs": [],
   "source": []
  },
  {
   "cell_type": "code",
   "execution_count": null,
   "id": "f458251c",
   "metadata": {},
   "outputs": [],
   "source": []
  },
  {
   "cell_type": "code",
   "execution_count": null,
   "id": "2611dfe0",
   "metadata": {},
   "outputs": [],
   "source": []
  },
  {
   "cell_type": "code",
   "execution_count": null,
   "id": "d7131f6b",
   "metadata": {},
   "outputs": [],
   "source": []
  },
  {
   "cell_type": "code",
   "execution_count": null,
   "id": "8912cae3",
   "metadata": {},
   "outputs": [],
   "source": []
  },
  {
   "cell_type": "code",
   "execution_count": null,
   "id": "42076ad9",
   "metadata": {},
   "outputs": [],
   "source": []
  }
 ],
 "metadata": {
  "kernelspec": {
   "display_name": "base",
   "language": "python",
   "name": "python3"
  },
  "language_info": {
   "codemirror_mode": {
    "name": "ipython",
    "version": 3
   },
   "file_extension": ".py",
   "mimetype": "text/x-python",
   "name": "python",
   "nbconvert_exporter": "python",
   "pygments_lexer": "ipython3",
   "version": "3.12.4"
  }
 },
 "nbformat": 4,
 "nbformat_minor": 5
}
